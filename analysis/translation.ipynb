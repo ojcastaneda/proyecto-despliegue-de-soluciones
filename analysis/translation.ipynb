{
  "cells": [
    {
      "cell_type": "code",
      "execution_count": null,
      "metadata": {},
      "outputs": [],
      "source": [
        "%pip install google google.genai --q"
      ]
    },
    {
      "cell_type": "code",
      "execution_count": null,
      "metadata": {
        "colab": {
          "base_uri": "https://localhost:8080/"
        },
        "id": "bclmKMP9t3_O",
        "outputId": "ace3dad6-a920-4243-9400-f50c90a3096d"
      },
      "outputs": [],
      "source": [
        "from google.colab import userdata\n",
        "from google.colab import drive\n",
        "from os import chdir\n",
        "\n",
        "drive.mount(\"/content/drive\")\n",
        "chdir(\"/content/drive/MyDrive/Google AI Studio\")"
      ]
    },
    {
      "cell_type": "code",
      "execution_count": null,
      "metadata": {
        "colab": {
          "base_uri": "https://localhost:8080/",
          "height": 373
        },
        "id": "J2kD1Ui1t3_V",
        "outputId": "06a8d639-fb6a-4269-f751-b61ce94c5941"
      },
      "outputs": [],
      "source": [
        "from google.genai import Client\n",
        "from google.genai.types import (\n",
        "    Content,\n",
        "    Part,\n",
        "    SafetySetting,\n",
        "    GenerateContentConfig,\n",
        "    HarmCategory,\n",
        "    HarmBlockThreshold,\n",
        "    FinishReason,\n",
        ")\n",
        "from json import dump, load\n",
        "from os.path import exists\n",
        "from pydantic import BaseModel\n",
        "from typing import Sequence\n",
        "\n",
        "\n",
        "class JokeEntry(BaseModel):\n",
        "    body: str\n",
        "    id: int\n",
        "    rating: float\n",
        "\n",
        "\n",
        "def iter_batches(array: Sequence, batch_size=32):\n",
        "    for i in range(0, len(array), batch_size):\n",
        "        yield array[i : i + batch_size]\n",
        "\n",
        "\n",
        "prompt = \"\"\"Traduce estos chistes al español, para cada objeto del array traduce el texto en la llave body, las demás llaves déjalas intactas.\n",
        "Procura usar un lenguaje que resulte familiar en el contexto latinoamericano.\n",
        "\n",
        "```json\n",
        "{jokes_batch}\n",
        "```\n",
        "\"\"\"\n",
        "\n",
        "\n",
        "def translate(\n",
        "    batch: Sequence[JokeEntry],\n",
        "    config: GenerateContentConfig,\n",
        "    client: Client,\n",
        "):\n",
        "    response = client.models.generate_content(\n",
        "        model=model,\n",
        "        contents=[\n",
        "            Content(\n",
        "                role=\"user\",\n",
        "                parts=[Part.from_text(text=prompt.format(jokes_batch=batch))],\n",
        "            ),\n",
        "        ],\n",
        "        config=config,\n",
        "    )\n",
        "    return response\n",
        "\n",
        "\n",
        "with open(\"/content/drive/MyDrive/Google AI Studio/stupid_stuff.json\") as file:\n",
        "    raw_jokes = load(file)\n",
        "\n",
        "client = Client(api_key=userdata.get(\"GEMINI_API_KEY\"))\n",
        "model = \"gemini-2.0-flash\"\n",
        "generate_content_config = GenerateContentConfig(\n",
        "    temperature=1,\n",
        "    response_mime_type=\"application/json\",\n",
        "    response_schema=list[JokeEntry],\n",
        "    safety_settings=[\n",
        "        SafetySetting(\n",
        "            category=HarmCategory.HARM_CATEGORY_HATE_SPEECH,\n",
        "            threshold=HarmBlockThreshold.BLOCK_NONE,\n",
        "        ),\n",
        "        SafetySetting(\n",
        "            category=HarmCategory.HARM_CATEGORY_HARASSMENT,\n",
        "            threshold=HarmBlockThreshold.BLOCK_NONE,\n",
        "        ),\n",
        "        SafetySetting(\n",
        "            category=HarmCategory.HARM_CATEGORY_SEXUALLY_EXPLICIT,\n",
        "            threshold=HarmBlockThreshold.BLOCK_NONE,\n",
        "        ),\n",
        "        SafetySetting(\n",
        "            category=HarmCategory.HARM_CATEGORY_DANGEROUS_CONTENT,\n",
        "            threshold=HarmBlockThreshold.BLOCK_NONE,\n",
        "        ),\n",
        "        SafetySetting(\n",
        "            category=HarmCategory.HARM_CATEGORY_CIVIC_INTEGRITY,\n",
        "            threshold=HarmBlockThreshold.BLOCK_NONE,\n",
        "        ),\n",
        "    ],\n",
        ")\n",
        "\n",
        "translated = []\n",
        "for i, batch in enumerate(iter_batches(raw_jokes)):\n",
        "    response = translate(batch, generate_content_config, client)\n",
        "    if (\n",
        "        response.parsed is None\n",
        "        and response.candidates is not None\n",
        "        and response.candidates[0].finish_reason\n",
        "        in (FinishReason.RECITATION, FinishReason.MAX_TOKENS)\n",
        "    ):\n",
        "        for j, joke in enumerate(batch):\n",
        "            response = translate([joke], generate_content_config, client)\n",
        "            if (\n",
        "                response.parsed is None\n",
        "                and response.candidates is not None\n",
        "                and response.candidates[0].finish_reason == FinishReason.RECITATION\n",
        "            ):\n",
        "                continue\n",
        "            translated += response.parsed\n",
        "    translated += response.parsed"
      ]
    },
    {
      "cell_type": "code",
      "execution_count": null,
      "metadata": {
        "id": "hqR9ZS4H0V_x"
      },
      "outputs": [],
      "source": [
        "translated_raw = [joke.model_dump() for joke in translated]\n",
        "translated_path = \"/content/drive/MyDrive/Google AI Studio/stupid_stuff_translated.json\"\n",
        "if exists(translated_path):\n",
        "    with open(translated_path) as file:\n",
        "        translated_raw = load(file) + translated_raw\n",
        "\n",
        "with open(translated_path) as file:\n",
        "    dump(translated_raw, file, indent=2)"
      ]
    }
  ],
  "metadata": {
    "colab": {
      "provenance": []
    },
    "kernelspec": {
      "display_name": ".venv",
      "language": "python",
      "name": "python3"
    },
    "language_info": {
      "name": "python",
      "version": "3.12.7"
    }
  },
  "nbformat": 4,
  "nbformat_minor": 0
}
