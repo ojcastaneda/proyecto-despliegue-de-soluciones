{
 "cells": [
  {
   "cell_type": "code",
   "execution_count": 1,
   "id": "0b22a3d6",
   "metadata": {},
   "outputs": [
    {
     "name": "stdout",
     "output_type": "stream",
     "text": [
      "Note: you may need to restart the kernel to use updated packages.\n"
     ]
    },
    {
     "name": "stderr",
     "output_type": "stream",
     "text": [
      "\n",
      "[notice] A new release of pip is available: 25.0.1 -> 25.1.1\n",
      "[notice] To update, run: python.exe -m pip install --upgrade pip\n"
     ]
    }
   ],
   "source": [
    "%pip install ./humor-detection ipywidgets==8.1.5 --q"
   ]
  },
  {
   "cell_type": "code",
   "execution_count": 2,
   "id": "4efcf0a9",
   "metadata": {},
   "outputs": [
    {
     "data": {
      "text/html": [
       "\n",
       "            <div>\n",
       "                <ins><a href=\"https://ydata.ai/register\">Upgrade to ydata-sdk</a></ins>\n",
       "                <p>\n",
       "                    Improve your data and profiling with ydata-sdk, featuring data quality scoring, redundancy detection, outlier identification, text validation, and synthetic data generation.\n",
       "                </p>\n",
       "            </div>\n",
       "            "
      ],
      "text/plain": [
       "<IPython.core.display.HTML object>"
      ]
     },
     "metadata": {},
     "output_type": "display_data"
    }
   ],
   "source": [
    "from humor_detection.decoder import classification_model, detection_model\n",
    "from humor_detection.test import test_classification, test_detection\n",
    "from humor_detection.train import train_classification, train_detection\n",
    "from humor_detection.predict import predict_classification, predict_detection\n",
    "from humor_detection.utils import set_random_seeds\n",
    "from IPython.display import display\n",
    "from transformers.tokenization_utils_base import PreTrainedTokenizerBase\n",
    "from transformers.training_args import TrainingArguments\n",
    "\n",
    "model_name = \"distilbert/distilgpt2\"\n",
    "save_path = \"./models/distilgpt2\"\n",
    "default_arguments = {\n",
    "    \"bf16\": True,\n",
    "    \"bf16_full_eval\": True,\n",
    "    \"disable_tqdm\": False,\n",
    "    \"per_device_eval_batch_size\": 20,\n",
    "    \"per_device_train_batch_size\": 40,\n",
    "}\n",
    "prompts = [\n",
    "    \"¿Cuál es el último animal que subió al arca de Noé? El del-fin.\",\n",
    "    \"El otro día unas chicas llamarón a mi puerta y me pidieron una pequeña donación para una piscina local.\\nLes di un garrafa de agua.\",\n",
    "    \"The brain surgeon changed my life. He really opened my mind.\",\n",
    "    \"djasndoasndoa\",\n",
    "    \"jajaja\",\n",
    "]\n",
    "\n",
    "\n",
    "# Para GPT2 es necesario asignar un pad_token y puede que para otros modelos también\n",
    "def fix_tokenizer(tokenizer: PreTrainedTokenizerBase):\n",
    "    tokenizer.pad_token = tokenizer.eos_token"
   ]
  },
  {
   "cell_type": "code",
   "execution_count": 3,
   "id": "da6dff1d",
   "metadata": {},
   "outputs": [],
   "source": [
    "def run_classification(full_dataset: bool, train: bool):\n",
    "    set_random_seeds()\n",
    "\n",
    "    def prompter(input: str):\n",
    "        return f\"Give a humor rating 1 to 5 for the following text:\\n{input}\\nScore:\\n\"\n",
    "\n",
    "    arguments = TrainingArguments(\n",
    "        num_train_epochs=4,\n",
    "        optim=\"adamw_8bit\",\n",
    "        lr_scheduler_type=\"cosine_with_restarts\",\n",
    "        **default_arguments,\n",
    "    )\n",
    "    model, tokenizer = classification_model(\n",
    "        model_name,\n",
    "        lora_configuration=None,  # Hacer uso de configuración LoRA para causal LM ejemplo: LoraConfig(task_type=\"CAUSAL_LM\")\n",
    "        tokenizer_name=None,  # Nombre de tokenizador especial en caso de no tener tokenizador\n",
    "        classes=None,  # Lista de tokens para clasificación en caso de usar distinto a 0-1 para detección y 1-5 para clasificación\n",
    "    )\n",
    "    fix_tokenizer(tokenizer)\n",
    "    if train:\n",
    "        train_logs, metrics = train_classification(\n",
    "            model,\n",
    "            tokenizer,\n",
    "            arguments,\n",
    "            prompter=prompter,  # Función para modificar los prompts, solo es útil en decoders\n",
    "            full_dataset=full_dataset,\n",
    "            class_weights=[1, 1.25, 1.25, 2, 4],\n",
    "            save_path=f\"{save_path}/classification\" if full_dataset else None,\n",
    "        )\n",
    "        display(train_logs)\n",
    "        display(metrics)\n",
    "    if not full_dataset or not train:\n",
    "        display(test_classification(model, tokenizer, arguments))\n",
    "    display(predict_classification(model, tokenizer, prompts, arguments, prompter))"
   ]
  },
  {
   "cell_type": "code",
   "execution_count": 4,
   "id": "c0290b1d",
   "metadata": {},
   "outputs": [
    {
     "data": {
      "application/vnd.jupyter.widget-view+json": {
       "model_id": "9caf258e1549465293a73ab336a82eec",
       "version_major": 2,
       "version_minor": 0
      },
      "text/plain": [
       "Map:   0%|          | 0/1178 [00:00<?, ? examples/s]"
      ]
     },
     "metadata": {},
     "output_type": "display_data"
    },
    {
     "data": {
      "text/html": [
       "\n",
       "    <div>\n",
       "      \n",
       "      <progress value='59' max='59' style='width:300px; height:20px; vertical-align: middle;'></progress>\n",
       "      [59/59 00:09]\n",
       "    </div>\n",
       "    "
      ],
      "text/plain": [
       "<IPython.core.display.HTML object>"
      ]
     },
     "metadata": {},
     "output_type": "display_data"
    },
    {
     "name": "stderr",
     "output_type": "stream",
     "text": [
      "2025/05/07 11:03:28 INFO mlflow.tracking.fluent: Experiment with name 'test_distilbert/distilgpt2' does not exist. Creating a new experiment.\n"
     ]
    },
    {
     "data": {
      "text/plain": [
       "{'eval_loss': 1.3709943294525146,\n",
       " 'eval_model_preparation_time': 0.2601,\n",
       " 'eval_0_precision': 0.6657458563535912,\n",
       " 'eval_0_recall': 0.926923076923077,\n",
       " 'eval_0_f1-score': 0.77491961414791,\n",
       " 'eval_0_support': 520.0,\n",
       " 'eval_1_precision': 0.558974358974359,\n",
       " 'eval_1_recall': 0.6072423398328691,\n",
       " 'eval_1_f1-score': 0.582109479305741,\n",
       " 'eval_1_support': 359.0,\n",
       " 'eval_2_precision': 0.71875,\n",
       " 'eval_2_recall': 0.2072072072072072,\n",
       " 'eval_2_f1-score': 0.32167832167832167,\n",
       " 'eval_2_support': 222.0,\n",
       " 'eval_3_precision': 0.0,\n",
       " 'eval_3_recall': 0.0,\n",
       " 'eval_3_f1-score': 0.0,\n",
       " 'eval_3_support': 65.0,\n",
       " 'eval_4_precision': 0.0,\n",
       " 'eval_4_recall': 0.0,\n",
       " 'eval_4_f1-score': 0.0,\n",
       " 'eval_4_support': 12.0,\n",
       " 'eval_accuracy': 0.633276740237691,\n",
       " 'eval_macro_avg_precision': 0.38869404306559,\n",
       " 'eval_macro_avg_recall': 0.34827452479263066,\n",
       " 'eval_macro_avg_f1-score': 0.3357414830263945,\n",
       " 'eval_macro_avg_support': 1178.0,\n",
       " 'eval_weighted_avg_precision': 0.5996792361423279,\n",
       " 'eval_weighted_avg_recall': 0.633276740237691,\n",
       " 'eval_weighted_avg_f1-score': 0.5800917570800184,\n",
       " 'eval_weighted_avg_support': 1178.0,\n",
       " 'eval_runtime': 9.6001,\n",
       " 'eval_samples_per_second': 122.707,\n",
       " 'eval_steps_per_second': 6.146}"
      ]
     },
     "metadata": {},
     "output_type": "display_data"
    },
    {
     "data": {
      "application/vnd.jupyter.widget-view+json": {
       "model_id": "63d0eb62ade2431abc43063ed0a26ceb",
       "version_major": 2,
       "version_minor": 0
      },
      "text/plain": [
       "Map:   0%|          | 0/5 [00:00<?, ? examples/s]"
      ]
     },
     "metadata": {},
     "output_type": "display_data"
    },
    {
     "data": {
      "text/html": [],
      "text/plain": [
       "<IPython.core.display.HTML object>"
      ]
     },
     "metadata": {},
     "output_type": "display_data"
    },
    {
     "data": {
      "text/html": [
       "<div>\n",
       "<style scoped>\n",
       "    .dataframe tbody tr th:only-of-type {\n",
       "        vertical-align: middle;\n",
       "    }\n",
       "\n",
       "    .dataframe tbody tr th {\n",
       "        vertical-align: top;\n",
       "    }\n",
       "\n",
       "    .dataframe thead th {\n",
       "        text-align: right;\n",
       "    }\n",
       "</style>\n",
       "<table border=\"1\" class=\"dataframe\">\n",
       "  <thead>\n",
       "    <tr style=\"text-align: right;\">\n",
       "      <th></th>\n",
       "      <th>score_0</th>\n",
       "      <th>score_1</th>\n",
       "      <th>score_2</th>\n",
       "      <th>score_3</th>\n",
       "      <th>score_4</th>\n",
       "      <th>labels</th>\n",
       "    </tr>\n",
       "  </thead>\n",
       "  <tbody>\n",
       "    <tr>\n",
       "      <th>0</th>\n",
       "      <td>0.479065</td>\n",
       "      <td>0.226294</td>\n",
       "      <td>0.137254</td>\n",
       "      <td>0.050493</td>\n",
       "      <td>0.106894</td>\n",
       "      <td>0</td>\n",
       "    </tr>\n",
       "    <tr>\n",
       "      <th>1</th>\n",
       "      <td>0.534707</td>\n",
       "      <td>0.196708</td>\n",
       "      <td>0.092918</td>\n",
       "      <td>0.056358</td>\n",
       "      <td>0.119309</td>\n",
       "      <td>0</td>\n",
       "    </tr>\n",
       "    <tr>\n",
       "      <th>2</th>\n",
       "      <td>0.610031</td>\n",
       "      <td>0.174777</td>\n",
       "      <td>0.082559</td>\n",
       "      <td>0.050074</td>\n",
       "      <td>0.082559</td>\n",
       "      <td>0</td>\n",
       "    </tr>\n",
       "    <tr>\n",
       "      <th>3</th>\n",
       "      <td>0.526283</td>\n",
       "      <td>0.193609</td>\n",
       "      <td>0.117430</td>\n",
       "      <td>0.071225</td>\n",
       "      <td>0.091454</td>\n",
       "      <td>0</td>\n",
       "    </tr>\n",
       "    <tr>\n",
       "      <th>4</th>\n",
       "      <td>0.526283</td>\n",
       "      <td>0.193609</td>\n",
       "      <td>0.117430</td>\n",
       "      <td>0.071225</td>\n",
       "      <td>0.091454</td>\n",
       "      <td>0</td>\n",
       "    </tr>\n",
       "  </tbody>\n",
       "</table>\n",
       "</div>"
      ],
      "text/plain": [
       "    score_0   score_1   score_2   score_3   score_4  labels\n",
       "0  0.479065  0.226294  0.137254  0.050493  0.106894       0\n",
       "1  0.534707  0.196708  0.092918  0.056358  0.119309       0\n",
       "2  0.610031  0.174777  0.082559  0.050074  0.082559       0\n",
       "3  0.526283  0.193609  0.117430  0.071225  0.091454       0\n",
       "4  0.526283  0.193609  0.117430  0.071225  0.091454       0"
      ]
     },
     "metadata": {},
     "output_type": "display_data"
    }
   ],
   "source": [
    "run_classification(True, False)"
   ]
  },
  {
   "cell_type": "code",
   "execution_count": 5,
   "id": "d0e94950",
   "metadata": {},
   "outputs": [
    {
     "data": {
      "application/vnd.jupyter.widget-view+json": {
       "model_id": "743c2ca4fb464113873feb3a9cf4f0dc",
       "version_major": 2,
       "version_minor": 0
      },
      "text/plain": [
       "Map:   0%|          | 0/9234 [00:00<?, ? examples/s]"
      ]
     },
     "metadata": {},
     "output_type": "display_data"
    },
    {
     "data": {
      "application/vnd.jupyter.widget-view+json": {
       "model_id": "9d3eb0d140df4935aec2da1870c7a585",
       "version_major": 2,
       "version_minor": 0
      },
      "text/plain": [
       "Map:   0%|          | 0/1178 [00:00<?, ? examples/s]"
      ]
     },
     "metadata": {},
     "output_type": "display_data"
    },
    {
     "name": "stderr",
     "output_type": "stream",
     "text": [
      "`use_cache=True` is incompatible with gradient checkpointing. Setting `use_cache=False`...\n"
     ]
    },
    {
     "data": {
      "text/html": [
       "\n",
       "    <div>\n",
       "      \n",
       "      <progress value='924' max='924' style='width:300px; height:20px; vertical-align: middle;'></progress>\n",
       "      [924/924 04:12, Epoch 4/4]\n",
       "    </div>\n",
       "    <table border=\"1\" class=\"dataframe\">\n",
       "  <thead>\n",
       " <tr style=\"text-align: left;\">\n",
       "      <th>Epoch</th>\n",
       "      <th>Training Loss</th>\n",
       "      <th>Validation Loss</th>\n",
       "      <th>0 Precision</th>\n",
       "      <th>0 Recall</th>\n",
       "      <th>0 F1-score</th>\n",
       "      <th>0 Support</th>\n",
       "      <th>1 Precision</th>\n",
       "      <th>1 Recall</th>\n",
       "      <th>1 F1-score</th>\n",
       "      <th>1 Support</th>\n",
       "      <th>2 Precision</th>\n",
       "      <th>2 Recall</th>\n",
       "      <th>2 F1-score</th>\n",
       "      <th>2 Support</th>\n",
       "      <th>3 Precision</th>\n",
       "      <th>3 Recall</th>\n",
       "      <th>3 F1-score</th>\n",
       "      <th>3 Support</th>\n",
       "      <th>4 Precision</th>\n",
       "      <th>4 Recall</th>\n",
       "      <th>4 F1-score</th>\n",
       "      <th>4 Support</th>\n",
       "      <th>Accuracy</th>\n",
       "      <th>Macro Avg Precision</th>\n",
       "      <th>Macro Avg Recall</th>\n",
       "      <th>Macro Avg F1-score</th>\n",
       "      <th>Macro Avg Support</th>\n",
       "      <th>Weighted Avg Precision</th>\n",
       "      <th>Weighted Avg Recall</th>\n",
       "      <th>Weighted Avg F1-score</th>\n",
       "      <th>Weighted Avg Support</th>\n",
       "    </tr>\n",
       "  </thead>\n",
       "  <tbody>\n",
       "    <tr>\n",
       "      <td>1</td>\n",
       "      <td>1.584000</td>\n",
       "      <td>1.483778</td>\n",
       "      <td>0.976852</td>\n",
       "      <td>0.405769</td>\n",
       "      <td>0.573370</td>\n",
       "      <td>520.000000</td>\n",
       "      <td>0.585455</td>\n",
       "      <td>0.448468</td>\n",
       "      <td>0.507886</td>\n",
       "      <td>359.000000</td>\n",
       "      <td>0.314410</td>\n",
       "      <td>0.972973</td>\n",
       "      <td>0.475248</td>\n",
       "      <td>222.000000</td>\n",
       "      <td>0.000000</td>\n",
       "      <td>0.000000</td>\n",
       "      <td>0.000000</td>\n",
       "      <td>65.000000</td>\n",
       "      <td>0.000000</td>\n",
       "      <td>0.000000</td>\n",
       "      <td>0.000000</td>\n",
       "      <td>12.000000</td>\n",
       "      <td>0.499151</td>\n",
       "      <td>0.375343</td>\n",
       "      <td>0.365442</td>\n",
       "      <td>0.311301</td>\n",
       "      <td>1178.000000</td>\n",
       "      <td>0.668880</td>\n",
       "      <td>0.499151</td>\n",
       "      <td>0.497443</td>\n",
       "      <td>1178.000000</td>\n",
       "    </tr>\n",
       "    <tr>\n",
       "      <td>2</td>\n",
       "      <td>1.563400</td>\n",
       "      <td>1.550483</td>\n",
       "      <td>0.787879</td>\n",
       "      <td>0.050000</td>\n",
       "      <td>0.094033</td>\n",
       "      <td>520.000000</td>\n",
       "      <td>0.303681</td>\n",
       "      <td>0.275766</td>\n",
       "      <td>0.289051</td>\n",
       "      <td>359.000000</td>\n",
       "      <td>0.247863</td>\n",
       "      <td>0.914414</td>\n",
       "      <td>0.390010</td>\n",
       "      <td>222.000000</td>\n",
       "      <td>0.000000</td>\n",
       "      <td>0.000000</td>\n",
       "      <td>0.000000</td>\n",
       "      <td>65.000000</td>\n",
       "      <td>0.000000</td>\n",
       "      <td>0.000000</td>\n",
       "      <td>0.000000</td>\n",
       "      <td>12.000000</td>\n",
       "      <td>0.278438</td>\n",
       "      <td>0.267885</td>\n",
       "      <td>0.248036</td>\n",
       "      <td>0.154619</td>\n",
       "      <td>1178.000000</td>\n",
       "      <td>0.487049</td>\n",
       "      <td>0.278438</td>\n",
       "      <td>0.203097</td>\n",
       "      <td>1178.000000</td>\n",
       "    </tr>\n",
       "    <tr>\n",
       "      <td>3</td>\n",
       "      <td>1.538300</td>\n",
       "      <td>1.557374</td>\n",
       "      <td>0.760417</td>\n",
       "      <td>0.140385</td>\n",
       "      <td>0.237013</td>\n",
       "      <td>520.000000</td>\n",
       "      <td>0.383013</td>\n",
       "      <td>0.665738</td>\n",
       "      <td>0.486267</td>\n",
       "      <td>359.000000</td>\n",
       "      <td>0.325328</td>\n",
       "      <td>0.671171</td>\n",
       "      <td>0.438235</td>\n",
       "      <td>222.000000</td>\n",
       "      <td>0.000000</td>\n",
       "      <td>0.000000</td>\n",
       "      <td>0.000000</td>\n",
       "      <td>65.000000</td>\n",
       "      <td>0.000000</td>\n",
       "      <td>0.000000</td>\n",
       "      <td>0.000000</td>\n",
       "      <td>12.000000</td>\n",
       "      <td>0.391341</td>\n",
       "      <td>0.293751</td>\n",
       "      <td>0.295459</td>\n",
       "      <td>0.232303</td>\n",
       "      <td>1178.000000</td>\n",
       "      <td>0.513702</td>\n",
       "      <td>0.391341</td>\n",
       "      <td>0.335403</td>\n",
       "      <td>1178.000000</td>\n",
       "    </tr>\n",
       "    <tr>\n",
       "      <td>4</td>\n",
       "      <td>1.511200</td>\n",
       "      <td>1.582221</td>\n",
       "      <td>0.775000</td>\n",
       "      <td>0.178846</td>\n",
       "      <td>0.290625</td>\n",
       "      <td>520.000000</td>\n",
       "      <td>0.373967</td>\n",
       "      <td>0.504178</td>\n",
       "      <td>0.429419</td>\n",
       "      <td>359.000000</td>\n",
       "      <td>0.282723</td>\n",
       "      <td>0.729730</td>\n",
       "      <td>0.407547</td>\n",
       "      <td>222.000000</td>\n",
       "      <td>1.000000</td>\n",
       "      <td>0.015385</td>\n",
       "      <td>0.030303</td>\n",
       "      <td>65.000000</td>\n",
       "      <td>0.000000</td>\n",
       "      <td>0.000000</td>\n",
       "      <td>0.000000</td>\n",
       "      <td>12.000000</td>\n",
       "      <td>0.370968</td>\n",
       "      <td>0.486338</td>\n",
       "      <td>0.285628</td>\n",
       "      <td>0.231579</td>\n",
       "      <td>1178.000000</td>\n",
       "      <td>0.564532</td>\n",
       "      <td>0.370968</td>\n",
       "      <td>0.337633</td>\n",
       "      <td>1178.000000</td>\n",
       "    </tr>\n",
       "  </tbody>\n",
       "</table><p>"
      ],
      "text/plain": [
       "<IPython.core.display.HTML object>"
      ]
     },
     "metadata": {},
     "output_type": "display_data"
    },
    {
     "data": {
      "text/html": [
       "<div>\n",
       "<style scoped>\n",
       "    .dataframe tbody tr th:only-of-type {\n",
       "        vertical-align: middle;\n",
       "    }\n",
       "\n",
       "    .dataframe tbody tr th {\n",
       "        vertical-align: top;\n",
       "    }\n",
       "\n",
       "    .dataframe thead th {\n",
       "        text-align: right;\n",
       "    }\n",
       "</style>\n",
       "<table border=\"1\" class=\"dataframe\">\n",
       "  <thead>\n",
       "    <tr style=\"text-align: right;\">\n",
       "      <th></th>\n",
       "      <th>train_loss</th>\n",
       "      <th>loss</th>\n",
       "      <th>accuracy</th>\n",
       "      <th>macro_f1</th>\n",
       "      <th>weighted_f1</th>\n",
       "    </tr>\n",
       "  </thead>\n",
       "  <tbody>\n",
       "    <tr>\n",
       "      <th>0</th>\n",
       "      <td>1.5840</td>\n",
       "      <td>1.483778</td>\n",
       "      <td>0.499151</td>\n",
       "      <td>0.311301</td>\n",
       "      <td>0.497443</td>\n",
       "    </tr>\n",
       "    <tr>\n",
       "      <th>1</th>\n",
       "      <td>1.5634</td>\n",
       "      <td>1.550483</td>\n",
       "      <td>0.278438</td>\n",
       "      <td>0.154619</td>\n",
       "      <td>0.203097</td>\n",
       "    </tr>\n",
       "    <tr>\n",
       "      <th>2</th>\n",
       "      <td>1.5383</td>\n",
       "      <td>1.557374</td>\n",
       "      <td>0.391341</td>\n",
       "      <td>0.232303</td>\n",
       "      <td>0.335403</td>\n",
       "    </tr>\n",
       "    <tr>\n",
       "      <th>3</th>\n",
       "      <td>1.5112</td>\n",
       "      <td>1.582221</td>\n",
       "      <td>0.370968</td>\n",
       "      <td>0.231579</td>\n",
       "      <td>0.337633</td>\n",
       "    </tr>\n",
       "  </tbody>\n",
       "</table>\n",
       "</div>"
      ],
      "text/plain": [
       "   train_loss      loss  accuracy  macro_f1  weighted_f1\n",
       "0      1.5840  1.483778  0.499151  0.311301     0.497443\n",
       "1      1.5634  1.550483  0.278438  0.154619     0.203097\n",
       "2      1.5383  1.557374  0.391341  0.232303     0.335403\n",
       "3      1.5112  1.582221  0.370968  0.231579     0.337633"
      ]
     },
     "metadata": {},
     "output_type": "display_data"
    },
    {
     "data": {
      "text/plain": [
       "{'loss': 1.4837775230407715,\n",
       " '0_precision': 0.9768518518518519,\n",
       " '0_recall': 0.40576923076923077,\n",
       " '0_f1-score': 0.5733695652173914,\n",
       " '0_support': 520.0,\n",
       " '1_precision': 0.5854545454545454,\n",
       " '1_recall': 0.44846796657381616,\n",
       " '1_f1-score': 0.5078864353312302,\n",
       " '1_support': 359.0,\n",
       " '2_precision': 0.314410480349345,\n",
       " '2_recall': 0.972972972972973,\n",
       " '2_f1-score': 0.4752475247524752,\n",
       " '2_support': 222.0,\n",
       " '3_precision': 0.0,\n",
       " '3_recall': 0.0,\n",
       " '3_f1-score': 0.0,\n",
       " '3_support': 65.0,\n",
       " '4_precision': 0.0,\n",
       " '4_recall': 0.0,\n",
       " '4_f1-score': 0.0,\n",
       " '4_support': 12.0,\n",
       " 'accuracy': 0.499151103565365,\n",
       " 'macro_avg_precision': 0.3753433755311485,\n",
       " 'macro_avg_recall': 0.36544203406320397,\n",
       " 'macro_avg_f1-score': 0.31130070506021934,\n",
       " 'macro_avg_support': 1178.0,\n",
       " 'weighted_avg_precision': 0.6688796871126481,\n",
       " 'weighted_avg_recall': 0.499151103565365,\n",
       " 'weighted_avg_f1-score': 0.4974434250356575,\n",
       " 'weighted_avg_support': 1178.0,\n",
       " 'runtime': 9.4534,\n",
       " 'samples_per_second': 124.612,\n",
       " 'steps_per_second': 6.241,\n",
       " 'epoch': 1.0}"
      ]
     },
     "metadata": {},
     "output_type": "display_data"
    },
    {
     "data": {
      "application/vnd.jupyter.widget-view+json": {
       "model_id": "4cb15968c7734c4293188df4c441ebe0",
       "version_major": 2,
       "version_minor": 0
      },
      "text/plain": [
       "Map:   0%|          | 0/5 [00:00<?, ? examples/s]"
      ]
     },
     "metadata": {},
     "output_type": "display_data"
    },
    {
     "data": {
      "text/html": [],
      "text/plain": [
       "<IPython.core.display.HTML object>"
      ]
     },
     "metadata": {},
     "output_type": "display_data"
    },
    {
     "data": {
      "text/html": [
       "<div>\n",
       "<style scoped>\n",
       "    .dataframe tbody tr th:only-of-type {\n",
       "        vertical-align: middle;\n",
       "    }\n",
       "\n",
       "    .dataframe tbody tr th {\n",
       "        vertical-align: top;\n",
       "    }\n",
       "\n",
       "    .dataframe thead th {\n",
       "        text-align: right;\n",
       "    }\n",
       "</style>\n",
       "<table border=\"1\" class=\"dataframe\">\n",
       "  <thead>\n",
       "    <tr style=\"text-align: right;\">\n",
       "      <th></th>\n",
       "      <th>score_0</th>\n",
       "      <th>score_1</th>\n",
       "      <th>score_2</th>\n",
       "      <th>score_3</th>\n",
       "      <th>score_4</th>\n",
       "      <th>labels</th>\n",
       "    </tr>\n",
       "  </thead>\n",
       "  <tbody>\n",
       "    <tr>\n",
       "      <th>0</th>\n",
       "      <td>0.229204</td>\n",
       "      <td>0.229204</td>\n",
       "      <td>0.294304</td>\n",
       "      <td>0.139019</td>\n",
       "      <td>0.108268</td>\n",
       "      <td>2</td>\n",
       "    </tr>\n",
       "    <tr>\n",
       "      <th>1</th>\n",
       "      <td>0.215195</td>\n",
       "      <td>0.276316</td>\n",
       "      <td>0.276316</td>\n",
       "      <td>0.130522</td>\n",
       "      <td>0.101651</td>\n",
       "      <td>1</td>\n",
       "    </tr>\n",
       "    <tr>\n",
       "      <th>2</th>\n",
       "      <td>0.253503</td>\n",
       "      <td>0.253503</td>\n",
       "      <td>0.253503</td>\n",
       "      <td>0.119746</td>\n",
       "      <td>0.119746</td>\n",
       "      <td>0</td>\n",
       "    </tr>\n",
       "    <tr>\n",
       "      <th>3</th>\n",
       "      <td>0.245164</td>\n",
       "      <td>0.245164</td>\n",
       "      <td>0.245164</td>\n",
       "      <td>0.148700</td>\n",
       "      <td>0.115807</td>\n",
       "      <td>0</td>\n",
       "    </tr>\n",
       "    <tr>\n",
       "      <th>4</th>\n",
       "      <td>0.260400</td>\n",
       "      <td>0.260400</td>\n",
       "      <td>0.260400</td>\n",
       "      <td>0.123004</td>\n",
       "      <td>0.095796</td>\n",
       "      <td>0</td>\n",
       "    </tr>\n",
       "  </tbody>\n",
       "</table>\n",
       "</div>"
      ],
      "text/plain": [
       "    score_0   score_1   score_2   score_3   score_4  labels\n",
       "0  0.229204  0.229204  0.294304  0.139019  0.108268       2\n",
       "1  0.215195  0.276316  0.276316  0.130522  0.101651       1\n",
       "2  0.253503  0.253503  0.253503  0.119746  0.119746       0\n",
       "3  0.245164  0.245164  0.245164  0.148700  0.115807       0\n",
       "4  0.260400  0.260400  0.260400  0.123004  0.095796       0"
      ]
     },
     "metadata": {},
     "output_type": "display_data"
    }
   ],
   "source": [
    "run_classification(True, True)"
   ]
  },
  {
   "cell_type": "code",
   "execution_count": 6,
   "id": "48935659",
   "metadata": {},
   "outputs": [],
   "source": [
    "def run_detection(full_dataset: bool, train: bool, threshold: float | None):\n",
    "    set_random_seeds()\n",
    "\n",
    "    def prompter(input: str):\n",
    "        return f\"Detect if the following text is humor 1 or not 0:\\n{input}\\nScore:\\n\"\n",
    "\n",
    "    arguments = TrainingArguments(\n",
    "        num_train_epochs=3,\n",
    "        **default_arguments,\n",
    "    )\n",
    "    model, tokenizer = detection_model(model_name)\n",
    "    fix_tokenizer(tokenizer)\n",
    "    if train:\n",
    "        train_logs, metrics = train_detection(\n",
    "            model,\n",
    "            tokenizer,  \n",
    "            arguments,\n",
    "            prompter=prompter,\n",
    "            full_dataset=full_dataset,\n",
    "            sample=\"under\",\n",
    "            threshold=threshold,\n",
    "            save_path=f\"{save_path}/detection\" if full_dataset else None,\n",
    "        )\n",
    "        display(train_logs)\n",
    "        display(metrics)\n",
    "    if not full_dataset or not train:\n",
    "        display(test_detection(model, tokenizer, arguments, prompter, threshold))\n",
    "    display(\n",
    "        predict_detection(model, tokenizer, prompts, arguments, prompter, threshold)\n",
    "    )"
   ]
  },
  {
   "cell_type": "code",
   "execution_count": 7,
   "id": "23f975b0",
   "metadata": {},
   "outputs": [
    {
     "data": {
      "application/vnd.jupyter.widget-view+json": {
       "model_id": "4585d6a2af574130ae9641b296dded68",
       "version_major": 2,
       "version_minor": 0
      },
      "text/plain": [
       "Map:   0%|          | 0/1991 [00:00<?, ? examples/s]"
      ]
     },
     "metadata": {},
     "output_type": "display_data"
    },
    {
     "data": {
      "text/html": [
       "\n",
       "    <div>\n",
       "      \n",
       "      <progress value='100' max='100' style='width:300px; height:20px; vertical-align: middle;'></progress>\n",
       "      [100/100 00:12]\n",
       "    </div>\n",
       "    "
      ],
      "text/plain": [
       "<IPython.core.display.HTML object>"
      ]
     },
     "metadata": {},
     "output_type": "display_data"
    },
    {
     "data": {
      "text/plain": [
       "{'eval_loss': 0.8240367770195007,\n",
       " 'eval_model_preparation_time': 0.2677,\n",
       " 'eval_0_precision': 0.7584134615384616,\n",
       " 'eval_0_recall': 0.7761377613776138,\n",
       " 'eval_0_f1-score': 0.7671732522796353,\n",
       " 'eval_0_support': 813.0,\n",
       " 'eval_1_precision': 0.8429680759275238,\n",
       " 'eval_1_recall': 0.8293718166383701,\n",
       " 'eval_1_f1-score': 0.8361146769362431,\n",
       " 'eval_1_support': 1178.0,\n",
       " 'eval_accuracy': 0.8076343545956806,\n",
       " 'eval_macro_avg_precision': 0.8006907687329927,\n",
       " 'eval_macro_avg_recall': 0.802754789007992,\n",
       " 'eval_macro_avg_f1-score': 0.8016439646079392,\n",
       " 'eval_macro_avg_support': 1991.0,\n",
       " 'eval_weighted_avg_precision': 0.8084412544818645,\n",
       " 'eval_weighted_avg_recall': 0.8076343545956806,\n",
       " 'eval_weighted_avg_f1-score': 0.8079633066470305,\n",
       " 'eval_weighted_avg_support': 1991.0,\n",
       " 'eval_runtime': 13.2344,\n",
       " 'eval_samples_per_second': 150.441,\n",
       " 'eval_steps_per_second': 7.556}"
      ]
     },
     "metadata": {},
     "output_type": "display_data"
    },
    {
     "data": {
      "application/vnd.jupyter.widget-view+json": {
       "model_id": "a9bb993f129e42bd9b889f215bc9021f",
       "version_major": 2,
       "version_minor": 0
      },
      "text/plain": [
       "Map:   0%|          | 0/5 [00:00<?, ? examples/s]"
      ]
     },
     "metadata": {},
     "output_type": "display_data"
    },
    {
     "data": {
      "text/html": [],
      "text/plain": [
       "<IPython.core.display.HTML object>"
      ]
     },
     "metadata": {},
     "output_type": "display_data"
    },
    {
     "data": {
      "text/html": [
       "<div>\n",
       "<style scoped>\n",
       "    .dataframe tbody tr th:only-of-type {\n",
       "        vertical-align: middle;\n",
       "    }\n",
       "\n",
       "    .dataframe tbody tr th {\n",
       "        vertical-align: top;\n",
       "    }\n",
       "\n",
       "    .dataframe thead th {\n",
       "        text-align: right;\n",
       "    }\n",
       "</style>\n",
       "<table border=\"1\" class=\"dataframe\">\n",
       "  <thead>\n",
       "    <tr style=\"text-align: right;\">\n",
       "      <th></th>\n",
       "      <th>score_0</th>\n",
       "      <th>score_1</th>\n",
       "      <th>labels</th>\n",
       "    </tr>\n",
       "  </thead>\n",
       "  <tbody>\n",
       "    <tr>\n",
       "      <th>0</th>\n",
       "      <td>0.562177</td>\n",
       "      <td>0.437823</td>\n",
       "      <td>0</td>\n",
       "    </tr>\n",
       "    <tr>\n",
       "      <th>1</th>\n",
       "      <td>0.562177</td>\n",
       "      <td>0.437823</td>\n",
       "      <td>0</td>\n",
       "    </tr>\n",
       "    <tr>\n",
       "      <th>2</th>\n",
       "      <td>0.437823</td>\n",
       "      <td>0.562177</td>\n",
       "      <td>1</td>\n",
       "    </tr>\n",
       "    <tr>\n",
       "      <th>3</th>\n",
       "      <td>0.500000</td>\n",
       "      <td>0.500000</td>\n",
       "      <td>0</td>\n",
       "    </tr>\n",
       "    <tr>\n",
       "      <th>4</th>\n",
       "      <td>0.500000</td>\n",
       "      <td>0.500000</td>\n",
       "      <td>0</td>\n",
       "    </tr>\n",
       "  </tbody>\n",
       "</table>\n",
       "</div>"
      ],
      "text/plain": [
       "    score_0   score_1  labels\n",
       "0  0.562177  0.437823       0\n",
       "1  0.562177  0.437823       0\n",
       "2  0.437823  0.562177       1\n",
       "3  0.500000  0.500000       0\n",
       "4  0.500000  0.500000       0"
      ]
     },
     "metadata": {},
     "output_type": "display_data"
    }
   ],
   "source": [
    "run_detection(True, False, None)"
   ]
  },
  {
   "cell_type": "code",
   "execution_count": 8,
   "id": "eb403423",
   "metadata": {},
   "outputs": [
    {
     "data": {
      "application/vnd.jupyter.widget-view+json": {
       "model_id": "317a78e760cf4b75bd0ea0c6d343ea7c",
       "version_major": 2,
       "version_minor": 0
      },
      "text/plain": [
       "Map:   0%|          | 0/18468 [00:00<?, ? examples/s]"
      ]
     },
     "metadata": {},
     "output_type": "display_data"
    },
    {
     "data": {
      "application/vnd.jupyter.widget-view+json": {
       "model_id": "955461fde3e6488db150b321eb20776f",
       "version_major": 2,
       "version_minor": 0
      },
      "text/plain": [
       "Map:   0%|          | 0/1991 [00:00<?, ? examples/s]"
      ]
     },
     "metadata": {},
     "output_type": "display_data"
    },
    {
     "data": {
      "text/html": [
       "\n",
       "    <div>\n",
       "      \n",
       "      <progress value='1386' max='1386' style='width:300px; height:20px; vertical-align: middle;'></progress>\n",
       "      [1386/1386 06:04, Epoch 3/3]\n",
       "    </div>\n",
       "    <table border=\"1\" class=\"dataframe\">\n",
       "  <thead>\n",
       " <tr style=\"text-align: left;\">\n",
       "      <th>Epoch</th>\n",
       "      <th>Training Loss</th>\n",
       "      <th>Validation Loss</th>\n",
       "      <th>0 Precision</th>\n",
       "      <th>0 Recall</th>\n",
       "      <th>0 F1-score</th>\n",
       "      <th>0 Support</th>\n",
       "      <th>1 Precision</th>\n",
       "      <th>1 Recall</th>\n",
       "      <th>1 F1-score</th>\n",
       "      <th>1 Support</th>\n",
       "      <th>Accuracy</th>\n",
       "      <th>Macro Avg Precision</th>\n",
       "      <th>Macro Avg Recall</th>\n",
       "      <th>Macro Avg F1-score</th>\n",
       "      <th>Macro Avg Support</th>\n",
       "      <th>Weighted Avg Precision</th>\n",
       "      <th>Weighted Avg Recall</th>\n",
       "      <th>Weighted Avg F1-score</th>\n",
       "      <th>Weighted Avg Support</th>\n",
       "    </tr>\n",
       "  </thead>\n",
       "  <tbody>\n",
       "    <tr>\n",
       "      <td>1</td>\n",
       "      <td>0.445000</td>\n",
       "      <td>0.571397</td>\n",
       "      <td>0.776543</td>\n",
       "      <td>0.773678</td>\n",
       "      <td>0.775108</td>\n",
       "      <td>813.000000</td>\n",
       "      <td>0.844200</td>\n",
       "      <td>0.846350</td>\n",
       "      <td>0.845273</td>\n",
       "      <td>1178.000000</td>\n",
       "      <td>0.816675</td>\n",
       "      <td>0.810372</td>\n",
       "      <td>0.810014</td>\n",
       "      <td>0.810191</td>\n",
       "      <td>1991.000000</td>\n",
       "      <td>0.816573</td>\n",
       "      <td>0.816675</td>\n",
       "      <td>0.816622</td>\n",
       "      <td>1991.000000</td>\n",
       "    </tr>\n",
       "    <tr>\n",
       "      <td>2</td>\n",
       "      <td>0.397600</td>\n",
       "      <td>0.639883</td>\n",
       "      <td>0.843615</td>\n",
       "      <td>0.723247</td>\n",
       "      <td>0.778808</td>\n",
       "      <td>813.000000</td>\n",
       "      <td>0.826121</td>\n",
       "      <td>0.907470</td>\n",
       "      <td>0.864887</td>\n",
       "      <td>1178.000000</td>\n",
       "      <td>0.832245</td>\n",
       "      <td>0.834868</td>\n",
       "      <td>0.815359</td>\n",
       "      <td>0.821847</td>\n",
       "      <td>1991.000000</td>\n",
       "      <td>0.833264</td>\n",
       "      <td>0.832245</td>\n",
       "      <td>0.829738</td>\n",
       "      <td>1991.000000</td>\n",
       "    </tr>\n",
       "    <tr>\n",
       "      <td>3</td>\n",
       "      <td>0.364200</td>\n",
       "      <td>0.727536</td>\n",
       "      <td>0.871517</td>\n",
       "      <td>0.692497</td>\n",
       "      <td>0.771761</td>\n",
       "      <td>813.000000</td>\n",
       "      <td>0.814126</td>\n",
       "      <td>0.929542</td>\n",
       "      <td>0.868014</td>\n",
       "      <td>1178.000000</td>\n",
       "      <td>0.832747</td>\n",
       "      <td>0.842822</td>\n",
       "      <td>0.811019</td>\n",
       "      <td>0.819888</td>\n",
       "      <td>1991.000000</td>\n",
       "      <td>0.837561</td>\n",
       "      <td>0.832747</td>\n",
       "      <td>0.828711</td>\n",
       "      <td>1991.000000</td>\n",
       "    </tr>\n",
       "  </tbody>\n",
       "</table><p>"
      ],
      "text/plain": [
       "<IPython.core.display.HTML object>"
      ]
     },
     "metadata": {},
     "output_type": "display_data"
    },
    {
     "data": {
      "text/html": [
       "<div>\n",
       "<style scoped>\n",
       "    .dataframe tbody tr th:only-of-type {\n",
       "        vertical-align: middle;\n",
       "    }\n",
       "\n",
       "    .dataframe tbody tr th {\n",
       "        vertical-align: top;\n",
       "    }\n",
       "\n",
       "    .dataframe thead th {\n",
       "        text-align: right;\n",
       "    }\n",
       "</style>\n",
       "<table border=\"1\" class=\"dataframe\">\n",
       "  <thead>\n",
       "    <tr style=\"text-align: right;\">\n",
       "      <th></th>\n",
       "      <th>train_loss</th>\n",
       "      <th>loss</th>\n",
       "      <th>accuracy</th>\n",
       "      <th>macro_f1</th>\n",
       "      <th>weighted_f1</th>\n",
       "    </tr>\n",
       "  </thead>\n",
       "  <tbody>\n",
       "    <tr>\n",
       "      <th>0</th>\n",
       "      <td>0.4450</td>\n",
       "      <td>0.571397</td>\n",
       "      <td>0.816675</td>\n",
       "      <td>0.810191</td>\n",
       "      <td>0.816622</td>\n",
       "    </tr>\n",
       "    <tr>\n",
       "      <th>1</th>\n",
       "      <td>0.3976</td>\n",
       "      <td>0.639883</td>\n",
       "      <td>0.832245</td>\n",
       "      <td>0.821847</td>\n",
       "      <td>0.829738</td>\n",
       "    </tr>\n",
       "    <tr>\n",
       "      <th>2</th>\n",
       "      <td>0.3642</td>\n",
       "      <td>0.727536</td>\n",
       "      <td>0.832747</td>\n",
       "      <td>0.819888</td>\n",
       "      <td>0.828711</td>\n",
       "    </tr>\n",
       "  </tbody>\n",
       "</table>\n",
       "</div>"
      ],
      "text/plain": [
       "   train_loss      loss  accuracy  macro_f1  weighted_f1\n",
       "0      0.4450  0.571397  0.816675  0.810191     0.816622\n",
       "1      0.3976  0.639883  0.832245  0.821847     0.829738\n",
       "2      0.3642  0.727536  0.832747  0.819888     0.828711"
      ]
     },
     "metadata": {},
     "output_type": "display_data"
    },
    {
     "data": {
      "text/plain": [
       "{'loss': 0.6398828625679016,\n",
       " '0_precision': 0.8436154949784792,\n",
       " '0_recall': 0.7232472324723247,\n",
       " '0_f1-score': 0.7788079470198676,\n",
       " '0_support': 813.0,\n",
       " '1_precision': 0.8261205564142194,\n",
       " '1_recall': 0.9074702886247877,\n",
       " '1_f1-score': 0.8648867313915858,\n",
       " '1_support': 1178.0,\n",
       " 'accuracy': 0.832245102963335,\n",
       " 'macro_avg_precision': 0.8348680256963493,\n",
       " 'macro_avg_recall': 0.8153587605485562,\n",
       " 'macro_avg_f1-score': 0.8218473392057266,\n",
       " 'macro_avg_support': 1991.0,\n",
       " 'weighted_avg_precision': 0.8332643962197157,\n",
       " 'weighted_avg_recall': 0.832245102963335,\n",
       " 'weighted_avg_f1-score': 0.8297375341569264,\n",
       " 'weighted_avg_support': 1991.0,\n",
       " 'runtime': 14.1847,\n",
       " 'samples_per_second': 140.363,\n",
       " 'steps_per_second': 7.05,\n",
       " 'epoch': 2.0}"
      ]
     },
     "metadata": {},
     "output_type": "display_data"
    },
    {
     "data": {
      "application/vnd.jupyter.widget-view+json": {
       "model_id": "ba434e65426845879bc83ca47f423b99",
       "version_major": 2,
       "version_minor": 0
      },
      "text/plain": [
       "Map:   0%|          | 0/5 [00:00<?, ? examples/s]"
      ]
     },
     "metadata": {},
     "output_type": "display_data"
    },
    {
     "data": {
      "text/html": [],
      "text/plain": [
       "<IPython.core.display.HTML object>"
      ]
     },
     "metadata": {},
     "output_type": "display_data"
    },
    {
     "data": {
      "text/html": [
       "<div>\n",
       "<style scoped>\n",
       "    .dataframe tbody tr th:only-of-type {\n",
       "        vertical-align: middle;\n",
       "    }\n",
       "\n",
       "    .dataframe tbody tr th {\n",
       "        vertical-align: top;\n",
       "    }\n",
       "\n",
       "    .dataframe thead th {\n",
       "        text-align: right;\n",
       "    }\n",
       "</style>\n",
       "<table border=\"1\" class=\"dataframe\">\n",
       "  <thead>\n",
       "    <tr style=\"text-align: right;\">\n",
       "      <th></th>\n",
       "      <th>score_0</th>\n",
       "      <th>score_1</th>\n",
       "      <th>labels</th>\n",
       "    </tr>\n",
       "  </thead>\n",
       "  <tbody>\n",
       "    <tr>\n",
       "      <th>0</th>\n",
       "      <td>0.268941</td>\n",
       "      <td>0.731059</td>\n",
       "      <td>1</td>\n",
       "    </tr>\n",
       "    <tr>\n",
       "      <th>1</th>\n",
       "      <td>0.500000</td>\n",
       "      <td>0.500000</td>\n",
       "      <td>0</td>\n",
       "    </tr>\n",
       "    <tr>\n",
       "      <th>2</th>\n",
       "      <td>0.952574</td>\n",
       "      <td>0.047426</td>\n",
       "      <td>0</td>\n",
       "    </tr>\n",
       "    <tr>\n",
       "      <th>3</th>\n",
       "      <td>0.998499</td>\n",
       "      <td>0.001501</td>\n",
       "      <td>0</td>\n",
       "    </tr>\n",
       "    <tr>\n",
       "      <th>4</th>\n",
       "      <td>0.999089</td>\n",
       "      <td>0.000911</td>\n",
       "      <td>0</td>\n",
       "    </tr>\n",
       "  </tbody>\n",
       "</table>\n",
       "</div>"
      ],
      "text/plain": [
       "    score_0   score_1  labels\n",
       "0  0.268941  0.731059       1\n",
       "1  0.500000  0.500000       0\n",
       "2  0.952574  0.047426       0\n",
       "3  0.998499  0.001501       0\n",
       "4  0.999089  0.000911       0"
      ]
     },
     "metadata": {},
     "output_type": "display_data"
    }
   ],
   "source": [
    "run_detection(True, True, None)"
   ]
  }
 ],
 "metadata": {
  "kernelspec": {
   "display_name": ".venv",
   "language": "python",
   "name": "python3"
  },
  "language_info": {
   "codemirror_mode": {
    "name": "ipython",
    "version": 3
   },
   "file_extension": ".py",
   "mimetype": "text/x-python",
   "name": "python",
   "nbconvert_exporter": "python",
   "pygments_lexer": "ipython3",
   "version": "3.10.11"
  }
 },
 "nbformat": 4,
 "nbformat_minor": 5
}
